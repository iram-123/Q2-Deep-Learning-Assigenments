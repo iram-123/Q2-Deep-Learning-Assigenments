{
  "nbformat": 4,
  "nbformat_minor": 0,
  "metadata": {
    "colab": {
      "name": "4.Flowers_Recognition.ipynb",
      "provenance": [],
      "collapsed_sections": []
    },
    "kernelspec": {
      "name": "python3",
      "display_name": "Python 3"
    },
    "language_info": {
      "name": "python"
    },
    "accelerator": "GPU"
  },
  "cells": [
    {
      "cell_type": "code",
      "metadata": {
        "id": "Q-DmZNx5qz30"
      },
      "source": [
        ""
      ],
      "execution_count": null,
      "outputs": []
    },
    {
      "cell_type": "markdown",
      "metadata": {
        "id": "sJbYVr3vhpR3"
      },
      "source": [
        "\n",
        "Dataset Link \n",
        "https://drive.google.com/file/d/1-OX6wn5gA-bJpjPNfSyaYQLz-A-AB_uj/view\n",
        "\n",
        "---\n",
        "\n",
        "\n",
        "*   Open the above link ,select 'make a shortcut in drive 'in right corner of menubar\n",
        "*   Mount the drive .Select your desired folder using cd command \n",
        "\n",
        "*   Copy the path of the shortcut and unzip it \n",
        "\n",
        "*   List item\n",
        "*   List item\n",
        "\n",
        "\n",
        "\n",
        "\n",
        "\n",
        "\n",
        "\n",
        "\n",
        "\n",
        "\n"
      ]
    },
    {
      "cell_type": "code",
      "metadata": {
        "id": "uS767tEprIE4"
      },
      "source": [
        ""
      ],
      "execution_count": null,
      "outputs": []
    },
    {
      "cell_type": "code",
      "metadata": {
        "colab": {
          "base_uri": "https://localhost:8080/"
        },
        "id": "xr-qSlsNvszh",
        "outputId": "e654b2a8-3b40-4748-a3d7-f27e8612372d"
      },
      "source": [
        "from google.colab import drive\n",
        "drive.mount('/content/drive')"
      ],
      "execution_count": null,
      "outputs": [
        {
          "output_type": "stream",
          "text": [
            "Drive already mounted at /content/drive; to attempt to forcibly remount, call drive.mount(\"/content/drive\", force_remount=True).\n"
          ],
          "name": "stdout"
        }
      ]
    },
    {
      "cell_type": "code",
      "metadata": {
        "colab": {
          "base_uri": "https://localhost:8080/"
        },
        "id": "Dj0xDww72Yng",
        "outputId": "ef720526-56a2-4ff0-91d0-69d27e837337"
      },
      "source": [
        "cd /content/sample_data"
      ],
      "execution_count": null,
      "outputs": [
        {
          "output_type": "stream",
          "text": [
            "/content/sample_data\n"
          ],
          "name": "stdout"
        }
      ]
    },
    {
      "cell_type": "code",
      "metadata": {
        "colab": {
          "base_uri": "https://localhost:8080/"
        },
        "id": "iLX12D20rdSt",
        "outputId": "f481ff32-e7b9-47ed-c4ad-d09225783722"
      },
      "source": [
        "ls"
      ],
      "execution_count": null,
      "outputs": [
        {
          "output_type": "stream",
          "text": [
            "\u001b[0m\u001b[01;32manscombe.json\u001b[0m*                \u001b[01;34mflowers\u001b[0m/               \u001b[01;32mREADME.md\u001b[0m*\n",
            "california_housing_test.csv   mnist_test.csv\n",
            "california_housing_train.csv  mnist_train_small.csv\n"
          ],
          "name": "stdout"
        }
      ]
    },
    {
      "cell_type": "code",
      "metadata": {
        "id": "BPPRUiK4gDG6"
      },
      "source": [
        " !unzip /content/drive/MyDrive/PIAIC/Assigenments/archive.zip"
      ],
      "execution_count": null,
      "outputs": []
    },
    {
      "cell_type": "code",
      "metadata": {
        "id": "eDYSeNOHrfbg"
      },
      "source": [
        "import numpy as np\n",
        "import pandas as pd\n",
        "import tensorflow as tf\n",
        "from tensorflow.keras import models\n",
        "from tensorflow.keras import layers\n",
        "from tensorflow.keras.preprocessing.image import ImageDataGenerator\n",
        "from tensorflow.keras.models import Sequential\n",
        "from tensorflow.keras.layers import Dense, Flatten\n",
        "from tensorflow.keras.optimizers import RMSprop"
      ],
      "execution_count": null,
      "outputs": []
    },
    {
      "cell_type": "code",
      "metadata": {
        "colab": {
          "base_uri": "https://localhost:8080/"
        },
        "id": "aGSWbLvkrtDS",
        "outputId": "a3f70a2d-4008-4a26-ccec-8e46cc892231"
      },
      "source": [
        "val_batch = 10\n",
        "train_batch = 32\n",
        "train_datagen = ImageDataGenerator(\n",
        "        rescale=1./255,\n",
        "        validation_split=0.30,\n",
        "        )\n",
        "train_generator = train_datagen.flow_from_directory(\n",
        "        '/content/sample_data/flowers',\n",
        "        target_size=(180, 180),\n",
        "        batch_size=train_batch,\n",
        "        class_mode='sparse',\n",
        "        subset = 'training',\n",
        "        color_mode = 'rgb',\n",
        "        shuffle = True,\n",
        "        )\n",
        "validation_generator = train_datagen.flow_from_directory(\n",
        "        '/content/sample_data/flowers',\n",
        "        target_size=(180, 180),\n",
        "        batch_size=val_batch,\n",
        "        class_mode='sparse',\n",
        "        subset = 'validation',\n",
        "        color_mode = 'rgb',\n",
        "        shuffle= True)"
      ],
      "execution_count": null,
      "outputs": [
        {
          "output_type": "stream",
          "text": [
            "Found 6055 images belonging to 6 classes.\n",
            "Found 2591 images belonging to 6 classes.\n"
          ],
          "name": "stdout"
        }
      ]
    },
    {
      "cell_type": "code",
      "metadata": {
        "colab": {
          "base_uri": "https://localhost:8080/"
        },
        "id": "VNivy-mPsFvU",
        "outputId": "acc3cf38-2fc5-4585-f581-e1bc4b6367d5"
      },
      "source": [
        "train_generator.class_indices"
      ],
      "execution_count": null,
      "outputs": [
        {
          "output_type": "execute_result",
          "data": {
            "text/plain": [
              "{'daisy': 0,\n",
              " 'dandelion': 1,\n",
              " 'flowers': 2,\n",
              " 'rose': 3,\n",
              " 'sunflower': 4,\n",
              " 'tulip': 5}"
            ]
          },
          "metadata": {
            "tags": []
          },
          "execution_count": 12
        }
      ]
    },
    {
      "cell_type": "code",
      "metadata": {
        "colab": {
          "base_uri": "https://localhost:8080/"
        },
        "id": "d2069onJsSST",
        "outputId": "9d4437d6-31dd-4f46-eeb3-e726e8bf56c3"
      },
      "source": [
        "\n",
        "type(train_datagen)"
      ],
      "execution_count": null,
      "outputs": [
        {
          "output_type": "execute_result",
          "data": {
            "text/plain": [
              "tensorflow.python.keras.preprocessing.image.ImageDataGenerator"
            ]
          },
          "metadata": {
            "tags": []
          },
          "execution_count": 13
        }
      ]
    },
    {
      "cell_type": "code",
      "metadata": {
        "colab": {
          "base_uri": "https://localhost:8080/"
        },
        "id": "xhkijPzRsV6q",
        "outputId": "80fa02fe-760f-48c9-97aa-21093546683f"
      },
      "source": [
        "type(train_generator)"
      ],
      "execution_count": null,
      "outputs": [
        {
          "output_type": "execute_result",
          "data": {
            "text/plain": [
              "tensorflow.python.keras.preprocessing.image.DirectoryIterator"
            ]
          },
          "metadata": {
            "tags": []
          },
          "execution_count": 14
        }
      ]
    },
    {
      "cell_type": "code",
      "metadata": {
        "id": "JC_MmfwwscJY"
      },
      "source": [
        "from tensorflow.keras.models import Sequential\n",
        "from tensorflow.keras.layers import Dense, Dropout,Flatten\n",
        "model = Sequential()\n",
        "model.add(Flatten())\n",
        "model.add(Dense(64, activation='relu'))\n",
        "model.add(layers.Dropout(0.2))\n",
        "model.add(Dense(32, activation='elu'))\n",
        "model.add(layers.Dropout(0.2))\n",
        "model.add(Dense(6,  activation='softmax'))"
      ],
      "execution_count": null,
      "outputs": []
    },
    {
      "cell_type": "code",
      "metadata": {
        "id": "MaK1e_DxuhjT"
      },
      "source": [
        "\n",
        "model.compile(optimizer='rmsprop',\n",
        "loss='sparse_categorical_crossentropy',\n",
        "metrics=['accuracy'])"
      ],
      "execution_count": null,
      "outputs": []
    },
    {
      "cell_type": "code",
      "metadata": {
        "id": "Ee8kp1w5utd9"
      },
      "source": [
        "import tensorflow as tf"
      ],
      "execution_count": null,
      "outputs": []
    },
    {
      "cell_type": "code",
      "metadata": {
        "colab": {
          "base_uri": "https://localhost:8080/"
        },
        "id": "dp2SDjXEu9OA",
        "outputId": "8475287c-7a8a-4b7c-cacd-fa46cc9f0321"
      },
      "source": [
        "with tf.device('/device:GPU:0'):\n",
        "    result = model.fit(\n",
        "          train_generator,\n",
        "          steps_per_epoch = 20,\n",
        "          batch_size = train_batch,\n",
        "          validation_data = validation_generator,\n",
        "          validation_batch_size= val_batch,\n",
        "          epochs=10)"
      ],
      "execution_count": null,
      "outputs": [
        {
          "output_type": "stream",
          "text": [
            "Epoch 1/10\n",
            "20/20 [==============================] - 13s 637ms/step - loss: 32.8694 - accuracy: 0.3245 - val_loss: 1.7719 - val_accuracy: 0.4959\n",
            "Epoch 2/10\n",
            "20/20 [==============================] - 12s 622ms/step - loss: 1.8448 - accuracy: 0.5310 - val_loss: 1.7241 - val_accuracy: 0.4994\n",
            "Epoch 3/10\n",
            "20/20 [==============================] - 12s 625ms/step - loss: 1.7096 - accuracy: 0.5041 - val_loss: 1.6832 - val_accuracy: 0.4998\n",
            "Epoch 4/10\n",
            "20/20 [==============================] - 12s 624ms/step - loss: 1.6762 - accuracy: 0.4941 - val_loss: 1.6456 - val_accuracy: 0.5002\n",
            "Epoch 5/10\n",
            "20/20 [==============================] - 12s 617ms/step - loss: 1.6282 - accuracy: 0.5066 - val_loss: 1.6060 - val_accuracy: 0.4998\n",
            "Epoch 6/10\n",
            "20/20 [==============================] - 12s 624ms/step - loss: 1.8403 - accuracy: 0.4692 - val_loss: 1.5755 - val_accuracy: 0.5002\n",
            "Epoch 7/10\n",
            "20/20 [==============================] - 12s 628ms/step - loss: 1.5991 - accuracy: 0.4771 - val_loss: 1.5514 - val_accuracy: 0.5002\n",
            "Epoch 8/10\n",
            "20/20 [==============================] - 12s 623ms/step - loss: 1.5809 - accuracy: 0.4630 - val_loss: 1.5315 - val_accuracy: 0.5002\n",
            "Epoch 9/10\n",
            "20/20 [==============================] - 12s 624ms/step - loss: 1.5433 - accuracy: 0.4879 - val_loss: 1.5151 - val_accuracy: 0.5002\n",
            "Epoch 10/10\n",
            "20/20 [==============================] - 12s 623ms/step - loss: 1.5011 - accuracy: 0.5156 - val_loss: 1.5049 - val_accuracy: 0.5002\n"
          ],
          "name": "stdout"
        }
      ]
    },
    {
      "cell_type": "code",
      "metadata": {
        "colab": {
          "base_uri": "https://localhost:8080/"
        },
        "id": "Nc6GJ2E2vaHu",
        "outputId": "dc1fe54b-0c05-4ff5-eb5d-352e976cd823"
      },
      "source": [
        "model.summary()"
      ],
      "execution_count": null,
      "outputs": [
        {
          "output_type": "stream",
          "text": [
            "Model: \"sequential_2\"\n",
            "_________________________________________________________________\n",
            "Layer (type)                 Output Shape              Param #   \n",
            "=================================================================\n",
            "flatten_2 (Flatten)          (None, None)              0         \n",
            "_________________________________________________________________\n",
            "dense_6 (Dense)              (None, 64)                6220864   \n",
            "_________________________________________________________________\n",
            "dropout_4 (Dropout)          (None, 64)                0         \n",
            "_________________________________________________________________\n",
            "dense_7 (Dense)              (None, 32)                2080      \n",
            "_________________________________________________________________\n",
            "dropout_5 (Dropout)          (None, 32)                0         \n",
            "_________________________________________________________________\n",
            "dense_8 (Dense)              (None, 6)                 198       \n",
            "=================================================================\n",
            "Total params: 6,223,142\n",
            "Trainable params: 6,223,142\n",
            "Non-trainable params: 0\n",
            "_________________________________________________________________\n"
          ],
          "name": "stdout"
        }
      ]
    },
    {
      "cell_type": "code",
      "metadata": {
        "colab": {
          "base_uri": "https://localhost:8080/"
        },
        "id": "fVFa63cUu_Vj",
        "outputId": "797fe4b3-a9d1-4082-cfa4-913a1d8cc55e"
      },
      "source": [
        "\n",
        "model.evaluate(validation_generator)"
      ],
      "execution_count": null,
      "outputs": [
        {
          "output_type": "stream",
          "text": [
            "260/260 [==============================] - 10s 37ms/step - loss: 1.5049 - accuracy: 0.5002\n"
          ],
          "name": "stdout"
        },
        {
          "output_type": "execute_result",
          "data": {
            "text/plain": [
              "[1.5049066543579102, 0.5001929998397827]"
            ]
          },
          "metadata": {
            "tags": []
          },
          "execution_count": 50
        }
      ]
    },
    {
      "cell_type": "code",
      "metadata": {
        "colab": {
          "base_uri": "https://localhost:8080/"
        },
        "id": "gJ2QrOECwUVb",
        "outputId": "ac8f14b9-c57b-4af4-dc02-ee4740d6bb68"
      },
      "source": [
        "x = result.history.keys()\n",
        "x\n"
      ],
      "execution_count": null,
      "outputs": [
        {
          "output_type": "execute_result",
          "data": {
            "text/plain": [
              "dict_keys(['loss', 'accuracy', 'val_loss', 'val_accuracy'])"
            ]
          },
          "metadata": {
            "tags": []
          },
          "execution_count": 51
        }
      ]
    },
    {
      "cell_type": "code",
      "metadata": {
        "colab": {
          "base_uri": "https://localhost:8080/",
          "height": 573
        },
        "id": "LdwApVE5wfb9",
        "outputId": "e65b68c6-9fb2-45ff-8652-85550cc9615e"
      },
      "source": [
        "# Visualize training history\n",
        "from keras.models import Sequential\n",
        "from keras.layers import Dense\n",
        "import matplotlib.pyplot as plt\n",
        "import numpy\n",
        "plt.plot(result.history['accuracy'])\n",
        "plt.plot(result.history['val_accuracy'])\n",
        "plt.title('model accuracy')\n",
        "plt.ylabel('accuracy')\n",
        "plt.xlabel('epoch')\n",
        "plt.legend(['train', 'test'], loc='upper left')\n",
        "plt.show()\n",
        "# summarize history for loss\n",
        "plt.plot(result.history['loss'])\n",
        "plt.plot(result.history['val_loss'])\n",
        "plt.title('model loss')\n",
        "plt.ylabel('loss')\n",
        "plt.xlabel('epoch')\n",
        "plt.legend(['train', 'test'], loc='upper left')\n",
        "plt.show()"
      ],
      "execution_count": null,
      "outputs": [
        {
          "output_type": "display_data",
          "data": {
            "image/png": "[encoded data removed]",
            "text/plain": [
              "<Figure size 432x288 with 1 Axes>"
            ]
          },
          "metadata": {
            "tags": [],
            "needs_background": "light"
          }
        },
        {
          "output_type": "display_data",
          "data": {
            "image/png": "[encoded data removed]",
            "text/plain": [
              "<Figure size 432x288 with 1 Axes>"
            ]
          },
          "metadata": {
            "tags": [],
            "needs_background": "light"
          }
        }
      ]
    },
    {
      "cell_type": "code",
      "metadata": {
        "id": "zePLvdKawi5B"
      },
      "source": [
        ""
      ],
      "execution_count": null,
      "outputs": []
    }
  ]
}